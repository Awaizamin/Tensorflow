{
 "cells": [
  {
   "cell_type": "code",
   "execution_count": 14,
   "id": "330c6b30",
   "metadata": {},
   "outputs": [],
   "source": [
    "import numpy as np\n",
    "y_pred=np.array([1,1,0,0,1])\n",
    "y_true=np.array([0.30,0.7,1,0,0.5])"
   ]
  },
  {
   "cell_type": "code",
   "execution_count": 15,
   "id": "5d2caa89",
   "metadata": {},
   "outputs": [],
   "source": [
    "mae=np.mean(np.abs(y_true-y_pred))"
   ]
  },
  {
   "cell_type": "code",
   "execution_count": 16,
   "id": "644ee875",
   "metadata": {},
   "outputs": [
    {
     "name": "stdout",
     "output_type": "stream",
     "text": [
      "Mean ansolute error 0.5\n"
     ]
    }
   ],
   "source": [
    "print(\"Mean ansolute error\",mae)"
   ]
  },
  {
   "cell_type": "code",
   "execution_count": 17,
   "id": "b2c195bd",
   "metadata": {},
   "outputs": [],
   "source": [
    "mse=np.mean((y_true-y_pred)**2)"
   ]
  },
  {
   "cell_type": "code",
   "execution_count": 18,
   "id": "6742b61e",
   "metadata": {},
   "outputs": [
    {
     "name": "stdout",
     "output_type": "stream",
     "text": [
      "Mean Squared error 0.366\n"
     ]
    }
   ],
   "source": [
    "print(\"Mean Squared error\",mse)"
   ]
  },
  {
   "cell_type": "code",
   "execution_count": 19,
   "id": "2b9279d6",
   "metadata": {},
   "outputs": [
    {
     "data": {
      "text/plain": [
       "array([-4.60517019])"
      ]
     },
     "execution_count": 19,
     "metadata": {},
     "output_type": "execute_result"
    }
   ],
   "source": [
    "np.log([0.01])"
   ]
  },
  {
   "cell_type": "code",
   "execution_count": 26,
   "id": "c4582129",
   "metadata": {},
   "outputs": [],
   "source": [
    "eplison=1e-15"
   ]
  },
  {
   "cell_type": "code",
   "execution_count": 27,
   "id": "6252256a",
   "metadata": {},
   "outputs": [
    {
     "data": {
      "text/plain": [
       "[1, 1, 1e-15, 1e-15, 1]"
      ]
     },
     "execution_count": 27,
     "metadata": {},
     "output_type": "execute_result"
    }
   ],
   "source": [
    "y_pred_new=[max(i,eplison)for i in y_pred]\n",
    "y_pred_new"
   ]
  },
  {
   "cell_type": "code",
   "execution_count": 28,
   "id": "99d0bffd",
   "metadata": {},
   "outputs": [
    {
     "data": {
      "text/plain": [
       "[0.999999999999999, 0.999999999999999, 1e-15, 1e-15, 0.999999999999999]"
      ]
     },
     "execution_count": 28,
     "metadata": {},
     "output_type": "execute_result"
    }
   ],
   "source": [
    "y_predi_new=[min(i,1-eplison)for i in y_pred_new]\n",
    "y_predi_new"
   ]
  },
  {
   "cell_type": "code",
   "execution_count": 29,
   "id": "df697b4a",
   "metadata": {},
   "outputs": [
    {
     "data": {
      "text/plain": [
       "array([-9.99200722e-16, -9.99200722e-16, -3.45387764e+01, -3.45387764e+01,\n",
       "       -9.99200722e-16])"
      ]
     },
     "execution_count": 29,
     "metadata": {},
     "output_type": "execute_result"
    }
   ],
   "source": [
    "y_predi_new=np.array(y_predi_new)\n",
    "np.log(y_predi_new)"
   ]
  },
  {
   "cell_type": "code",
   "execution_count": 30,
   "id": "df81c352",
   "metadata": {},
   "outputs": [
    {
     "data": {
      "text/plain": [
       "17.2696280766844"
      ]
     },
     "execution_count": 30,
     "metadata": {},
     "output_type": "execute_result"
    }
   ],
   "source": [
    "-np.mean(y_true*np.log(y_predi_new)+(1-y_true)*np.log(1-y_predi_new))"
   ]
  },
  {
   "cell_type": "code",
   "execution_count": null,
   "id": "b5514cc0",
   "metadata": {},
   "outputs": [],
   "source": []
  }
 ],
 "metadata": {
  "kernelspec": {
   "display_name": "Python 3 (ipykernel)",
   "language": "python",
   "name": "python3"
  },
  "language_info": {
   "codemirror_mode": {
    "name": "ipython",
    "version": 3
   },
   "file_extension": ".py",
   "mimetype": "text/x-python",
   "name": "python",
   "nbconvert_exporter": "python",
   "pygments_lexer": "ipython3",
   "version": "3.11.3"
  }
 },
 "nbformat": 4,
 "nbformat_minor": 5
}
